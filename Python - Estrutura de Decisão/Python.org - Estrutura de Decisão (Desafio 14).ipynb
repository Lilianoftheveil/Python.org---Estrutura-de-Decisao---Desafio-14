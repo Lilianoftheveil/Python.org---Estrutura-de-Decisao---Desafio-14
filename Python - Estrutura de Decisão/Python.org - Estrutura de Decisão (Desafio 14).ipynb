{
 "cells": [
  {
   "cell_type": "code",
   "execution_count": null,
   "id": "f704985c",
   "metadata": {},
   "outputs": [],
   "source": [
    "Python - Lista de Exercícios (Estrutura de Decisão) \n",
    "link: https://wiki.python.org.br/EstruturaDeDecisao"
   ]
  },
  {
   "cell_type": "markdown",
   "id": "c1424185",
   "metadata": {},
   "source": [
    "14) Faça um programa que lê as duas notas parciais obtidas por um aluno numa disciplina ao longo de um semestre, e calcule a sua média. A atribuição de conceitos obedece à tabela abaixo:\n",
    "\n",
    "Média de Aproveitamento       Conceito\n",
    "\nEntre 9.0 e 10.0                 A\n",
    "\nEntre 7.5 e 9.0                  B\n",
    "\nEntre 6.0 e 7.5                  C\n",
    "\nEntre 4.0 e 6.0                  D\n",
    "\nEntre 4.0 e zero                 E"
   ]
  },
  {
   "cell_type": "code",
   "execution_count": null,
   "id": "6d7cf684",
   "metadata": {},
   "outputs": [],
   "source": [
    "Obs.: Visando desenvolver o programa de forma mais dinâmica e menos suscetível a erros, adicionei \n",
    "outras estruturas no corpo do código. De modo que apenas números sejam aceitos durante sua execução."
   ]
  },
  {
   "cell_type": "code",
   "execution_count": null,
   "id": "eb6d47b6",
   "metadata": {},
   "outputs": [],
   "source": [
    "while True:\n",
    "  x = input(\"Primeira Nota: \")\n",
    "  y = input(\"Segunda Nota: \")\n",
    "  try:\n",
    "    float(x), float(y)\n",
    "    if float(x) < 0 or float(y) < 0:\n",
    "      print(\"Por favor, digite apenas números positivos.\")\n",
    "      continue\n",
    "    elif float(x) > 10 or float(y) > 10:\n",
    "      print(\"Por favor, digite apenas números de 0 a 10.\")\n",
    "      continue\n",
    "    else:\n",
    "      z = (float(x) + float(y)) / 2\n",
    "      break\n",
    "  except:\n",
    "    print(\"Por favor, digite apenas números.\")\n",
    "    continue\n",
    "\n",
    "print(f\"Média: {z}\")\n",
    "if z >= 0 and z <= 4:\n",
    "  print(f\"Conceito E\\nREPROVADO\")\n",
    "elif z > 4 and z <= 6:\n",
    "  print(f\"Conceito D\\nREPROVADO\")\n",
    "elif z > 6 and z <= 7.5:\n",
    "  print(f\"Conceito C\\nAPROVADO\")\n",
    "elif z > 7.5 and z <= 9:\n",
    "  print(f\"Conceito B\\nAPROVADO\")\n",
    "elif z > 9 and z <= 10:\n",
    "  print(f\"Conceito A\\nAPROVADO\")"
   ]
  }
 ],
 "metadata": {
  "kernelspec": {
   "display_name": "Python 3 (ipykernel)",
   "language": "python",
   "name": "python3"
  },
  "language_info": {
   "codemirror_mode": {
    "name": "ipython",
    "version": 3
   },
   "file_extension": ".py",
   "mimetype": "text/x-python",
   "name": "python",
   "nbconvert_exporter": "python",
   "pygments_lexer": "ipython3",
   "version": "3.8.10"
  }
 },
 "nbformat": 4,
 "nbformat_minor": 5
}
